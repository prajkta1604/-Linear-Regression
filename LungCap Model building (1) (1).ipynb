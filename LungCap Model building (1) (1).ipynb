{
 "cells": [
  {
   "cell_type": "code",
   "execution_count": 1,
   "id": "52195603",
   "metadata": {},
   "outputs": [],
   "source": [
    "import pandas as pd\n",
    "import seaborn as sns"
   ]
  },
  {
   "cell_type": "code",
   "execution_count": 2,
   "id": "87d02082",
   "metadata": {},
   "outputs": [],
   "source": [
    "lcn=pd.read_csv('D:\\Imarticus Learning\\DATASETS\\LungCapData.csv')"
   ]
  },
  {
   "cell_type": "code",
   "execution_count": 3,
   "id": "07b85a02",
   "metadata": {},
   "outputs": [
    {
     "data": {
      "text/html": [
       "<div>\n",
       "<style scoped>\n",
       "    .dataframe tbody tr th:only-of-type {\n",
       "        vertical-align: middle;\n",
       "    }\n",
       "\n",
       "    .dataframe tbody tr th {\n",
       "        vertical-align: top;\n",
       "    }\n",
       "\n",
       "    .dataframe thead th {\n",
       "        text-align: right;\n",
       "    }\n",
       "</style>\n",
       "<table border=\"1\" class=\"dataframe\">\n",
       "  <thead>\n",
       "    <tr style=\"text-align: right;\">\n",
       "      <th></th>\n",
       "      <th>LungCap</th>\n",
       "      <th>Age</th>\n",
       "      <th>Height</th>\n",
       "      <th>Smoke</th>\n",
       "      <th>Gender</th>\n",
       "      <th>Caesarean</th>\n",
       "    </tr>\n",
       "  </thead>\n",
       "  <tbody>\n",
       "    <tr>\n",
       "      <th>0</th>\n",
       "      <td>6.475</td>\n",
       "      <td>6</td>\n",
       "      <td>62.1</td>\n",
       "      <td>no</td>\n",
       "      <td>male</td>\n",
       "      <td>no</td>\n",
       "    </tr>\n",
       "    <tr>\n",
       "      <th>1</th>\n",
       "      <td>10.125</td>\n",
       "      <td>18</td>\n",
       "      <td>74.7</td>\n",
       "      <td>yes</td>\n",
       "      <td>female</td>\n",
       "      <td>no</td>\n",
       "    </tr>\n",
       "    <tr>\n",
       "      <th>2</th>\n",
       "      <td>9.550</td>\n",
       "      <td>16</td>\n",
       "      <td>69.7</td>\n",
       "      <td>no</td>\n",
       "      <td>female</td>\n",
       "      <td>yes</td>\n",
       "    </tr>\n",
       "    <tr>\n",
       "      <th>3</th>\n",
       "      <td>11.125</td>\n",
       "      <td>14</td>\n",
       "      <td>71.0</td>\n",
       "      <td>no</td>\n",
       "      <td>male</td>\n",
       "      <td>no</td>\n",
       "    </tr>\n",
       "    <tr>\n",
       "      <th>4</th>\n",
       "      <td>4.800</td>\n",
       "      <td>5</td>\n",
       "      <td>56.9</td>\n",
       "      <td>no</td>\n",
       "      <td>male</td>\n",
       "      <td>no</td>\n",
       "    </tr>\n",
       "  </tbody>\n",
       "</table>\n",
       "</div>"
      ],
      "text/plain": [
       "   LungCap  Age  Height Smoke  Gender Caesarean\n",
       "0    6.475    6    62.1    no    male        no\n",
       "1   10.125   18    74.7   yes  female        no\n",
       "2    9.550   16    69.7    no  female       yes\n",
       "3   11.125   14    71.0    no    male        no\n",
       "4    4.800    5    56.9    no    male        no"
      ]
     },
     "execution_count": 3,
     "metadata": {},
     "output_type": "execute_result"
    }
   ],
   "source": [
    "lcn.head()"
   ]
  },
  {
   "cell_type": "code",
   "execution_count": 4,
   "id": "e5512b3e",
   "metadata": {},
   "outputs": [
    {
     "data": {
      "text/plain": [
       "LungCap      0\n",
       "Age          0\n",
       "Height       0\n",
       "Smoke        0\n",
       "Gender       0\n",
       "Caesarean    0\n",
       "dtype: int64"
      ]
     },
     "execution_count": 4,
     "metadata": {},
     "output_type": "execute_result"
    }
   ],
   "source": [
    "lcn.isnull().sum()"
   ]
  },
  {
   "cell_type": "code",
   "execution_count": 5,
   "id": "7246ccb0",
   "metadata": {},
   "outputs": [],
   "source": [
    "lcn.Smoke.replace({'no':0 , 'yes':1} , inplace= True)\n",
    "lcn.Gender.replace({'male':0 , 'female':1} , inplace= True)\n",
    "lcn.Caesarean.replace({'no':0 , 'yes':1} , inplace= True)"
   ]
  },
  {
   "cell_type": "code",
   "execution_count": 6,
   "id": "9e4ac1a5",
   "metadata": {},
   "outputs": [
    {
     "data": {
      "text/html": [
       "<div>\n",
       "<style scoped>\n",
       "    .dataframe tbody tr th:only-of-type {\n",
       "        vertical-align: middle;\n",
       "    }\n",
       "\n",
       "    .dataframe tbody tr th {\n",
       "        vertical-align: top;\n",
       "    }\n",
       "\n",
       "    .dataframe thead th {\n",
       "        text-align: right;\n",
       "    }\n",
       "</style>\n",
       "<table border=\"1\" class=\"dataframe\">\n",
       "  <thead>\n",
       "    <tr style=\"text-align: right;\">\n",
       "      <th></th>\n",
       "      <th>LungCap</th>\n",
       "      <th>Age</th>\n",
       "      <th>Height</th>\n",
       "      <th>Smoke</th>\n",
       "      <th>Gender</th>\n",
       "      <th>Caesarean</th>\n",
       "    </tr>\n",
       "  </thead>\n",
       "  <tbody>\n",
       "    <tr>\n",
       "      <th>0</th>\n",
       "      <td>6.475</td>\n",
       "      <td>6</td>\n",
       "      <td>62.1</td>\n",
       "      <td>0</td>\n",
       "      <td>0</td>\n",
       "      <td>0</td>\n",
       "    </tr>\n",
       "    <tr>\n",
       "      <th>1</th>\n",
       "      <td>10.125</td>\n",
       "      <td>18</td>\n",
       "      <td>74.7</td>\n",
       "      <td>1</td>\n",
       "      <td>1</td>\n",
       "      <td>0</td>\n",
       "    </tr>\n",
       "    <tr>\n",
       "      <th>2</th>\n",
       "      <td>9.550</td>\n",
       "      <td>16</td>\n",
       "      <td>69.7</td>\n",
       "      <td>0</td>\n",
       "      <td>1</td>\n",
       "      <td>1</td>\n",
       "    </tr>\n",
       "    <tr>\n",
       "      <th>3</th>\n",
       "      <td>11.125</td>\n",
       "      <td>14</td>\n",
       "      <td>71.0</td>\n",
       "      <td>0</td>\n",
       "      <td>0</td>\n",
       "      <td>0</td>\n",
       "    </tr>\n",
       "    <tr>\n",
       "      <th>4</th>\n",
       "      <td>4.800</td>\n",
       "      <td>5</td>\n",
       "      <td>56.9</td>\n",
       "      <td>0</td>\n",
       "      <td>0</td>\n",
       "      <td>0</td>\n",
       "    </tr>\n",
       "  </tbody>\n",
       "</table>\n",
       "</div>"
      ],
      "text/plain": [
       "   LungCap  Age  Height  Smoke  Gender  Caesarean\n",
       "0    6.475    6    62.1      0       0          0\n",
       "1   10.125   18    74.7      1       1          0\n",
       "2    9.550   16    69.7      0       1          1\n",
       "3   11.125   14    71.0      0       0          0\n",
       "4    4.800    5    56.9      0       0          0"
      ]
     },
     "execution_count": 6,
     "metadata": {},
     "output_type": "execute_result"
    }
   ],
   "source": [
    "lcn.head()"
   ]
  },
  {
   "cell_type": "code",
   "execution_count": 7,
   "id": "b1d719dc",
   "metadata": {},
   "outputs": [],
   "source": [
    "from sklearn.model_selection import train_test_split\n",
    "lcn_train, lcn_test=train_test_split(lcn,test_size=.2)"
   ]
  },
  {
   "cell_type": "code",
   "execution_count": 8,
   "id": "b4968d6a",
   "metadata": {},
   "outputs": [],
   "source": [
    "train_lcn_x=lcn_train.iloc[:,1:]\n",
    "train_lcn_y=lcn_train.iloc[:,0]"
   ]
  },
  {
   "cell_type": "code",
   "execution_count": 9,
   "id": "d02dacbd",
   "metadata": {},
   "outputs": [],
   "source": [
    "test_lcn_x=lcn_test.iloc[:,1:]\n",
    "test_lcn_y=lcn_test.iloc[:,0]"
   ]
  },
  {
   "cell_type": "code",
   "execution_count": 10,
   "id": "ece89cc4",
   "metadata": {},
   "outputs": [
    {
     "data": {
      "text/html": [
       "<style>#sk-container-id-1 {color: black;background-color: white;}#sk-container-id-1 pre{padding: 0;}#sk-container-id-1 div.sk-toggleable {background-color: white;}#sk-container-id-1 label.sk-toggleable__label {cursor: pointer;display: block;width: 100%;margin-bottom: 0;padding: 0.3em;box-sizing: border-box;text-align: center;}#sk-container-id-1 label.sk-toggleable__label-arrow:before {content: \"▸\";float: left;margin-right: 0.25em;color: #696969;}#sk-container-id-1 label.sk-toggleable__label-arrow:hover:before {color: black;}#sk-container-id-1 div.sk-estimator:hover label.sk-toggleable__label-arrow:before {color: black;}#sk-container-id-1 div.sk-toggleable__content {max-height: 0;max-width: 0;overflow: hidden;text-align: left;background-color: #f0f8ff;}#sk-container-id-1 div.sk-toggleable__content pre {margin: 0.2em;color: black;border-radius: 0.25em;background-color: #f0f8ff;}#sk-container-id-1 input.sk-toggleable__control:checked~div.sk-toggleable__content {max-height: 200px;max-width: 100%;overflow: auto;}#sk-container-id-1 input.sk-toggleable__control:checked~label.sk-toggleable__label-arrow:before {content: \"▾\";}#sk-container-id-1 div.sk-estimator input.sk-toggleable__control:checked~label.sk-toggleable__label {background-color: #d4ebff;}#sk-container-id-1 div.sk-label input.sk-toggleable__control:checked~label.sk-toggleable__label {background-color: #d4ebff;}#sk-container-id-1 input.sk-hidden--visually {border: 0;clip: rect(1px 1px 1px 1px);clip: rect(1px, 1px, 1px, 1px);height: 1px;margin: -1px;overflow: hidden;padding: 0;position: absolute;width: 1px;}#sk-container-id-1 div.sk-estimator {font-family: monospace;background-color: #f0f8ff;border: 1px dotted black;border-radius: 0.25em;box-sizing: border-box;margin-bottom: 0.5em;}#sk-container-id-1 div.sk-estimator:hover {background-color: #d4ebff;}#sk-container-id-1 div.sk-parallel-item::after {content: \"\";width: 100%;border-bottom: 1px solid gray;flex-grow: 1;}#sk-container-id-1 div.sk-label:hover label.sk-toggleable__label {background-color: #d4ebff;}#sk-container-id-1 div.sk-serial::before {content: \"\";position: absolute;border-left: 1px solid gray;box-sizing: border-box;top: 0;bottom: 0;left: 50%;z-index: 0;}#sk-container-id-1 div.sk-serial {display: flex;flex-direction: column;align-items: center;background-color: white;padding-right: 0.2em;padding-left: 0.2em;position: relative;}#sk-container-id-1 div.sk-item {position: relative;z-index: 1;}#sk-container-id-1 div.sk-parallel {display: flex;align-items: stretch;justify-content: center;background-color: white;position: relative;}#sk-container-id-1 div.sk-item::before, #sk-container-id-1 div.sk-parallel-item::before {content: \"\";position: absolute;border-left: 1px solid gray;box-sizing: border-box;top: 0;bottom: 0;left: 50%;z-index: -1;}#sk-container-id-1 div.sk-parallel-item {display: flex;flex-direction: column;z-index: 1;position: relative;background-color: white;}#sk-container-id-1 div.sk-parallel-item:first-child::after {align-self: flex-end;width: 50%;}#sk-container-id-1 div.sk-parallel-item:last-child::after {align-self: flex-start;width: 50%;}#sk-container-id-1 div.sk-parallel-item:only-child::after {width: 0;}#sk-container-id-1 div.sk-dashed-wrapped {border: 1px dashed gray;margin: 0 0.4em 0.5em 0.4em;box-sizing: border-box;padding-bottom: 0.4em;background-color: white;}#sk-container-id-1 div.sk-label label {font-family: monospace;font-weight: bold;display: inline-block;line-height: 1.2em;}#sk-container-id-1 div.sk-label-container {text-align: center;}#sk-container-id-1 div.sk-container {/* jupyter's `normalize.less` sets `[hidden] { display: none; }` but bootstrap.min.css set `[hidden] { display: none !important; }` so we also need the `!important` here to be able to override the default hidden behavior on the sphinx rendered scikit-learn.org. See: https://github.com/scikit-learn/scikit-learn/issues/21755 */display: inline-block !important;position: relative;}#sk-container-id-1 div.sk-text-repr-fallback {display: none;}</style><div id=\"sk-container-id-1\" class=\"sk-top-container\"><div class=\"sk-text-repr-fallback\"><pre>LinearRegression()</pre><b>In a Jupyter environment, please rerun this cell to show the HTML representation or trust the notebook. <br />On GitHub, the HTML representation is unable to render, please try loading this page with nbviewer.org.</b></div><div class=\"sk-container\" hidden><div class=\"sk-item\"><div class=\"sk-estimator sk-toggleable\"><input class=\"sk-toggleable__control sk-hidden--visually\" id=\"sk-estimator-id-1\" type=\"checkbox\" checked><label for=\"sk-estimator-id-1\" class=\"sk-toggleable__label sk-toggleable__label-arrow\">LinearRegression</label><div class=\"sk-toggleable__content\"><pre>LinearRegression()</pre></div></div></div></div></div>"
      ],
      "text/plain": [
       "LinearRegression()"
      ]
     },
     "execution_count": 10,
     "metadata": {},
     "output_type": "execute_result"
    }
   ],
   "source": [
    "#import a required functuion from sklearn\n",
    "from sklearn.linear_model import LinearRegression\n",
    "linreg=LinearRegression()\n",
    "linreg.fit(train_lcn_x,train_lcn_y)"
   ]
  },
  {
   "cell_type": "code",
   "execution_count": 11,
   "id": "17527af0",
   "metadata": {},
   "outputs": [],
   "source": [
    "Rsquare=linreg.score(train_lcn_x,train_lcn_y)\n",
    "# Rsquare"
   ]
  },
  {
   "cell_type": "code",
   "execution_count": 12,
   "id": "05273751",
   "metadata": {},
   "outputs": [
    {
     "data": {
      "text/plain": [
       "0.8542092371078319"
      ]
     },
     "execution_count": 12,
     "metadata": {},
     "output_type": "execute_result"
    }
   ],
   "source": [
    "Rsquare"
   ]
  },
  {
   "cell_type": "code",
   "execution_count": 13,
   "id": "2199854b",
   "metadata": {},
   "outputs": [],
   "source": [
    "N=train_lcn_x.shape[0]\n",
    "K=train_lcn_x.shape[1]\n",
    "Adj_Rsqu=1-(1-Rsquare)*(N-1)/(N-K-1)"
   ]
  },
  {
   "cell_type": "code",
   "execution_count": 14,
   "id": "96c75e67",
   "metadata": {},
   "outputs": [
    {
     "data": {
      "text/plain": [
       "0.8529392827272382"
      ]
     },
     "execution_count": 14,
     "metadata": {},
     "output_type": "execute_result"
    }
   ],
   "source": [
    "Adj_Rsqu"
   ]
  },
  {
   "cell_type": "code",
   "execution_count": 15,
   "id": "47dcbf37",
   "metadata": {},
   "outputs": [
    {
     "data": {
      "text/plain": [
       "array([ 0.16244238,  0.26335775, -0.57480985, -0.36983378, -0.18589551])"
      ]
     },
     "execution_count": 15,
     "metadata": {},
     "output_type": "execute_result"
    }
   ],
   "source": [
    "linreg.coef_"
   ]
  },
  {
   "cell_type": "code",
   "execution_count": 16,
   "id": "4129a0a4",
   "metadata": {},
   "outputs": [
    {
     "data": {
      "text/plain": [
       "-10.929631601761141"
      ]
     },
     "execution_count": 16,
     "metadata": {},
     "output_type": "execute_result"
    }
   ],
   "source": [
    "linreg.intercept_"
   ]
  },
  {
   "cell_type": "code",
   "execution_count": 17,
   "id": "181a6896",
   "metadata": {},
   "outputs": [
    {
     "data": {
      "text/html": [
       "<div>\n",
       "<style scoped>\n",
       "    .dataframe tbody tr th:only-of-type {\n",
       "        vertical-align: middle;\n",
       "    }\n",
       "\n",
       "    .dataframe tbody tr th {\n",
       "        vertical-align: top;\n",
       "    }\n",
       "\n",
       "    .dataframe thead th {\n",
       "        text-align: right;\n",
       "    }\n",
       "</style>\n",
       "<table border=\"1\" class=\"dataframe\">\n",
       "  <thead>\n",
       "    <tr style=\"text-align: right;\">\n",
       "      <th></th>\n",
       "      <th>Age</th>\n",
       "      <th>Height</th>\n",
       "      <th>Smoke</th>\n",
       "      <th>Gender</th>\n",
       "      <th>Caesarean</th>\n",
       "    </tr>\n",
       "  </thead>\n",
       "  <tbody>\n",
       "    <tr>\n",
       "      <th>78</th>\n",
       "      <td>17</td>\n",
       "      <td>70.4</td>\n",
       "      <td>0</td>\n",
       "      <td>1</td>\n",
       "      <td>0</td>\n",
       "    </tr>\n",
       "    <tr>\n",
       "      <th>499</th>\n",
       "      <td>13</td>\n",
       "      <td>64.1</td>\n",
       "      <td>0</td>\n",
       "      <td>0</td>\n",
       "      <td>0</td>\n",
       "    </tr>\n",
       "  </tbody>\n",
       "</table>\n",
       "</div>"
      ],
      "text/plain": [
       "     Age  Height  Smoke  Gender  Caesarean\n",
       "78    17    70.4      0       1          0\n",
       "499   13    64.1      0       0          0"
      ]
     },
     "execution_count": 17,
     "metadata": {},
     "output_type": "execute_result"
    }
   ],
   "source": [
    "train_lcn_x.head(2)"
   ]
  },
  {
   "cell_type": "code",
   "execution_count": 18,
   "id": "a0f37e06",
   "metadata": {},
   "outputs": [],
   "source": [
    "pred_train=linreg.predict(train_lcn_x)\n",
    "pred_test=linreg.predict(test_lcn_x)"
   ]
  },
  {
   "cell_type": "code",
   "execution_count": 19,
   "id": "aa61ab61",
   "metadata": {},
   "outputs": [
    {
     "data": {
      "text/plain": [
       "array([10.00244088,  8.0633513 , 11.87356333, 11.24907777,  2.39094065,\n",
       "        4.39359249,  9.87609207,  8.59449453,  8.12374538,  3.48777559,\n",
       "        9.02358947, 11.60851101,  7.81059871,  7.95282761,  6.85167505,\n",
       "        6.52146023,  6.90359374,  5.73983026,  3.25559351, 10.96066664,\n",
       "       10.71793454,  9.5854962 ,  5.96398122,  7.26442259,  9.16790878,\n",
       "        7.6890898 ,  5.96840895,  7.39167374,  7.15389889, 11.49431246,\n",
       "       10.09563373, 12.09141042,  4.36282899,  5.87037621,  6.32784218,\n",
       "        2.78000446,  9.23960574, 10.00701808,  2.7871102 , 11.60562837,\n",
       "        9.78860935,  5.44169344,  7.53107514,  3.14162553, 10.95011663,\n",
       "        6.24039157,  6.14503684,  8.38113032,  8.16272159,  6.47434933,\n",
       "        7.06588664,  9.29685449,  8.9649451 , 10.27037584,  9.15485618,\n",
       "        7.71388048,  4.87978671, 11.18868369,  3.43664913,  5.48108181,\n",
       "        7.51006944,  5.51184531,  4.21366979,  8.92800416,  3.41803588,\n",
       "        9.28959928, 10.95760858,  7.98609369,  5.40090946,  7.27214512,\n",
       "        7.6190874 ,  2.63239035,  6.16274775,  6.77176539, 12.04028395,\n",
       "       10.10309357,  7.58045189,  8.09388422,  6.37533314,  5.73138697,\n",
       "        7.26343914, 10.35051608, 12.29478626,  7.87344022, 10.67790342,\n",
       "       11.5387713 ,  8.36076736,  6.57829682,  8.01930462,  7.48283132,\n",
       "        8.47144053,  7.79000517,  7.73403882,  9.85328168,  7.39610146,\n",
       "        8.00954683,  7.75962173,  7.3727978 ,  8.88418806, 10.16424051,\n",
       "        3.96954208,  9.14929553, 11.66890509, 13.14195879, 11.56813919,\n",
       "       11.29402679,  9.45358674, 10.45457679,  6.31520175, 10.84189089,\n",
       "       10.75691075,  4.96280959,  6.77555037,  8.28997274,  8.31342587,\n",
       "        7.43572042,  6.86495823,  5.70618412, 10.92419302,  7.838249  ,\n",
       "        4.48032235,  5.21772406, 10.32732564,  9.7621241 ,  9.55030497,\n",
       "        8.11931765,  7.91838924,  9.42748155,  8.96319539,  9.51068602,\n",
       "        5.11196879, 10.78036388,  8.13679798,  9.26961637,  9.6908393 ,\n",
       "        8.98397051,  4.4584143 ,  3.48932068,  9.03547703,  7.69465044,\n",
       "        3.86574407,  8.46611046,  3.18214683,  5.27595626,  7.00878736,\n",
       "        4.39091448,  8.69427698,  3.86442956,  5.845735  , 11.20945882,\n",
       "       11.68906342, 10.89301735,  5.63580166,  7.05661902,  4.5022304 ,\n",
       "        5.69060299,  4.27939394,  9.08931361,  5.66213744,  9.03349674,\n",
       "        8.74694853,  4.9510715 ,  5.74289448, 11.21959667,  6.50511283,\n",
       "        9.99471835,  2.80304544,  6.54892893,  9.76099118,  8.65754067,\n",
       "        6.02550822,  8.60792719,  8.1104622 ,  7.15465176, 10.0506847 ,\n",
       "        8.46611046, 11.56356199, 10.99547781,  6.63565878, 11.4334282 ,\n",
       "       10.22058692,  7.82962412, 11.5092902 ,  7.2792249 ,  9.92013875,\n",
       "       10.98417493,  9.24403346,  5.93764545,  8.17754985, 10.42839049,\n",
       "       10.43112365, 12.38264903, 12.17196283,  9.78845987,  8.65946581,\n",
       "        7.91838924,  9.76500674, 10.04296217,  4.97740728,  3.22596293,\n",
       "        4.50779105,  4.02221363,  5.78938859, 10.19523459,  9.80061013,\n",
       "        7.43144217, 10.15716073,  6.88686628,  3.96359522,  5.03450655,\n",
       "        4.39359249,  7.95372995,  8.93243188,  3.92397626,  5.16618543,\n",
       "        7.10084729,  7.51359482,  7.09778306, 12.42492005,  9.28694722,\n",
       "        9.26617209,  5.77633599,  7.81634095,  9.51181894,  5.11351388,\n",
       "       10.07259275,  2.27254495, 11.42570567,  4.56221232,  6.38978135,\n",
       "        9.20793989,  9.6260175 ,  9.85861175,  8.08525935,  1.56567616,\n",
       "       11.01295814,  7.8834286 , 10.27998415,  5.13984966,  2.59122631,\n",
       "        6.25405481,  4.86763645,  3.11528976,  8.94015441,  6.2592354 ,\n",
       "        9.25731664,  4.82824808,  7.92127188,  7.73846654, 10.72251174,\n",
       "        7.74176135,  8.08371426,  5.16793515,  5.42511546,  4.08085799,\n",
       "       11.31150712,  8.57966627, 10.29228388,  7.55411612, 10.80136959,\n",
       "        5.72809217,  3.37421979, 11.0948481 ,  7.81922359, 12.98837187,\n",
       "       12.05776428,  5.54703654,  8.93531452,  7.97548852,  4.19505655,\n",
       "        9.48435024,  7.27327804,  9.54144952,  7.8251964 ,  8.42762443,\n",
       "        6.3371098 , 10.89456244, 10.1089169 ,  6.32379452,  7.74732199,\n",
       "        7.65503149,  9.50221062,  8.37783552,  8.22908848,  8.51836984,\n",
       "       10.55508   ,  8.53028952,  6.58313671,  7.51472774,  6.47280424,\n",
       "        5.13542193,  9.65235327,  5.62161614,  8.05449585,  9.17845879,\n",
       "        8.0051191 ,  7.29518609,  4.81939263, 12.04028395, 10.98129229,\n",
       "       10.4837952 ,  7.44764009, 11.67173258,  8.79632528,  7.08779469,\n",
       "       11.48609975, 12.93415523,  8.06623394,  6.64909144, 13.53699542,\n",
       "        8.14565343, 10.1690804 ,  3.688704  , 10.69273169,  8.40128865,\n",
       "        6.98245159, 12.32997748, 10.74097551,  7.95244755,  6.41014431,\n",
       "       10.64006014,  4.52856617, 10.29656213,  5.93648042, 10.16946046,\n",
       "        4.75541819,  7.34342991,  4.21809752,  6.64894196,  6.39953915,\n",
       "        8.98685315,  5.89825707,  9.6613582 ,  9.20464509,  8.09313135,\n",
       "        8.0018243 ,  7.99165434,  9.1932611 ,  7.13449343,  7.60122702,\n",
       "       12.61812592,  8.49532887,  4.48032235, 10.08587593,  4.72177205,\n",
       "       12.30364171, 10.85975127,  8.45838793,  5.67871542, 10.49839288,\n",
       "       10.09563373,  7.78251322,  7.22923136,  6.19237833,  3.95648948,\n",
       "       11.36747347,  5.43283799, 10.74097551,  4.40244795,  8.0358826 ,\n",
       "        7.50031164,  8.80404781,  7.66676958,  8.21539314,  6.47295372,\n",
       "        9.38786259, 10.69159876,  8.46168273,  9.81937285,  5.48221474,\n",
       "        7.9305395 ,  8.1379309 ,  8.72792312,  9.9112833 ,  6.04298855,\n",
       "        6.41725005,  8.07678395, 10.43240605,  5.69290094,  7.17501472,\n",
       "        8.04159273,  3.47070744,  6.23135454,  4.36900644,  5.01259851,\n",
       "        7.4428002 ,  9.30556047, 10.31805802,  3.55414249,  6.65427203,\n",
       "       10.05954016,  8.05295076,  8.28633723,  9.5514379 ,  4.61642895,\n",
       "       10.98685294,  7.99296884,  8.52609237,  6.97359614,  7.25556713,\n",
       "       11.14388415,  8.78342216,  9.10259679,  5.13451959, 10.41011794,\n",
       "        9.81479565,  7.60160708,  8.35149974,  8.93243188,  9.7797539 ,\n",
       "        9.82342052,  8.64160543,  5.12123641,  9.09044654,  7.21175104,\n",
       "        3.74292064, 10.36959665,  6.44801355,  9.25175599,  8.59006681,\n",
       "        3.97222009,  4.51108585, 10.83746316,  9.82266765,  4.95879403,\n",
       "        9.79577024,  8.50549883, 12.36782077,  3.49817613,  7.62336565,\n",
       "       10.8403458 ,  9.02358947,  5.36999648,  2.52375245,  3.0593234 ,\n",
       "        6.15275937,  6.49512445,  9.43281162,  8.84899683,  2.85151984,\n",
       "        5.25250312,  8.35648911,  5.25579793,  8.43470421,  7.24671168,\n",
       "        9.16097847,  7.69809472,  8.23351621,  7.73249373,  1.11796798,\n",
       "        7.24426425,  3.32000315,  9.82540082,  2.17582672,  6.1231288 ,\n",
       "       10.18792423,  6.97802386,  9.09487426,  7.9305395 ,  4.99398526,\n",
       "       11.56067935,  5.81039429, 11.52662105,  8.04564039, 11.95973154,\n",
       "        2.07491134,  8.27249241,  6.3986368 ,  5.9465009 ,  6.65715467,\n",
       "        3.84826374,  5.52970569,  9.61198145, 12.29324117,  5.14427738,\n",
       "        6.95899845,  5.28367879,  9.18005903,  7.71944113,  7.28519771,\n",
       "       10.45874182,  4.9072554 ,  4.4584143 , 11.64256932,  7.05661902,\n",
       "        6.47764413,  4.6691005 , 10.95608944,  8.88151005,  9.24846119,\n",
       "        7.68867763,  4.95436631, 10.32289791,  8.83481131,  6.53031568,\n",
       "       11.12715669,  7.07893924,  8.59006681,  9.91015038,  8.51435428,\n",
       "       12.38151611,  9.91571102,  6.33268208,  9.82630316,  8.06221838,\n",
       "        7.05991383,  9.56624021,  5.40650221,  6.97472906, 11.08334059,\n",
       "       10.03320438,  6.85455769,  5.74886729,  9.15905332, 11.31150712,\n",
       "        6.67830985,  4.1862011 ,  3.0285599 ,  8.80404781,  7.80861842,\n",
       "        6.84634498,  8.24059599,  6.4391581 , 10.01144581,  6.9776117 ,\n",
       "        8.2870901 , 11.55295682,  5.70062347, 11.68350277,  5.99144992,\n",
       "        8.76023171,  3.08452626,  8.79189756,  3.32154824,  8.99395889,\n",
       "        9.6954165 , 10.17793585,  8.99725369,  9.93319135, 10.44988637,\n",
       "        7.91305918, 11.02181359,  9.19578964,  7.9920665 , 10.99547781,\n",
       "        3.57718346, 12.43089286,  6.17909515,  7.03625606, 10.86709374,\n",
       "        5.384182  ,  7.10486285,  9.62158977,  8.52411208, 12.153119  ,\n",
       "        6.81228668,  9.76845102,  7.19756552,  8.32670905,  5.77963079,\n",
       "        9.5677853 ,  6.60335019,  5.38016644, 13.27363767,  6.42054485,\n",
       "       11.29845452,  6.92051242,  7.02297288, 11.64524732,  7.28190291,\n",
       "       10.07372568,  7.16968465,  9.94091388,  5.75174993,  8.14943841,\n",
       "        9.37571234,  6.12199587,  9.92433589,  7.56183864, 10.68274331])"
      ]
     },
     "execution_count": 19,
     "metadata": {},
     "output_type": "execute_result"
    }
   ],
   "source": [
    "pred_train"
   ]
  },
  {
   "cell_type": "code",
   "execution_count": 20,
   "id": "e8a64dc2",
   "metadata": {},
   "outputs": [
    {
     "data": {
      "text/plain": [
       "array([ 7.22325855,  9.09816907,  9.69654943,  8.61084193,  5.70505119,\n",
       "        6.67350207,  2.1583464 ,  9.69174164,  7.04930866,  8.23730119,\n",
       "        8.0633513 ,  5.02489824,  9.44496187, 10.38862206,  6.64451423,\n",
       "        5.59970809,  3.64579025,  6.43030265,  6.37075594,  6.19654337,\n",
       "        3.29521246,  4.66024505,  6.13085132,  8.01067975,  7.28190291,\n",
       "        7.44764009,  6.52588795,  8.05737849, 11.39494217,  8.19832498,\n",
       "        3.97664782, 11.55738455, 10.4968478 ,  6.97802386,  9.24755885,\n",
       "        5.75329502,  8.62412511,  3.92840399,  5.80153884,  6.99663711,\n",
       "        7.24138161,  4.47589462,  9.39671805, 10.75289519, 12.34591272,\n",
       "        8.16601639,  6.7244239 ,  4.31015744,  4.79748458,  3.2522987 ,\n",
       "       10.55991989, 10.71463974,  1.99590402, 10.10006145,  9.74793858,\n",
       "        9.46975256, 11.71982692,  8.75137626,  3.00397384,  3.40055556,\n",
       "        8.22136595, 11.718694  ,  6.83419473,  6.03008543,  9.18288652,\n",
       "       10.55662508,  9.31173791,  6.39953915,  7.94472502, 10.53203903,\n",
       "        9.83114305,  7.90090892,  7.00549256,  6.01335797,  7.46092327,\n",
       "        4.91055021, 12.95760837,  6.27138565,  5.25291529,  9.20639481,\n",
       "       10.91647049,  2.90130875,  4.61642895, 11.26326329,  8.22908848,\n",
       "        4.85015613,  6.01245563,  3.12834236,  7.21617876,  5.30671976,\n",
       "        3.49261548,  8.4539602 ,  9.87364464,  8.41343891,  6.03281859,\n",
       "       11.88072422,  2.61910717,  9.39762039,  6.41611713,  9.99914608,\n",
       "        8.20275271, 11.48280495,  5.02588168, 11.39823697, 10.19538407,\n",
       "       11.15349246,  3.22596293,  8.82708878,  6.11427334,  4.30482738,\n",
       "       10.23174033, 11.2973216 ,  6.76290993, 10.82883829, 10.84631861,\n",
       "       11.00320034,  7.7813803 ,  7.50916709, 10.81555511,  9.88494752,\n",
       "        8.06777902,  6.80518094,  7.30823868,  5.72253152,  6.88243855,\n",
       "        7.60678767, 10.73654779,  9.41419837,  8.01412403,  9.43281162,\n",
       "       10.77462165,  7.21061811,  9.67868905,  8.87533261,  7.92013896,\n",
       "        7.14046624,  9.05968304,  2.44762776,  5.89228426,  6.11427334,\n",
       "        9.16945386,  7.50587229,  4.24618301, 10.55549216,  7.75364891])"
      ]
     },
     "execution_count": 20,
     "metadata": {},
     "output_type": "execute_result"
    }
   ],
   "source": [
    "pred_test"
   ]
  },
  {
   "cell_type": "code",
   "execution_count": 21,
   "id": "49f5b7d6",
   "metadata": {},
   "outputs": [],
   "source": [
    "actual_pred = pd.DataFrame()\n",
    "actual_pred['Actual'] = test_lcn_y\n",
    "actual_pred['Pred'] = pred_test"
   ]
  },
  {
   "cell_type": "code",
   "execution_count": 22,
   "id": "3e4c7d55",
   "metadata": {},
   "outputs": [
    {
     "data": {
      "text/html": [
       "<div>\n",
       "<style scoped>\n",
       "    .dataframe tbody tr th:only-of-type {\n",
       "        vertical-align: middle;\n",
       "    }\n",
       "\n",
       "    .dataframe tbody tr th {\n",
       "        vertical-align: top;\n",
       "    }\n",
       "\n",
       "    .dataframe thead th {\n",
       "        text-align: right;\n",
       "    }\n",
       "</style>\n",
       "<table border=\"1\" class=\"dataframe\">\n",
       "  <thead>\n",
       "    <tr style=\"text-align: right;\">\n",
       "      <th></th>\n",
       "      <th>Actual</th>\n",
       "      <th>Pred</th>\n",
       "    </tr>\n",
       "  </thead>\n",
       "  <tbody>\n",
       "    <tr>\n",
       "      <th>225</th>\n",
       "      <td>7.275</td>\n",
       "      <td>7.223259</td>\n",
       "    </tr>\n",
       "    <tr>\n",
       "      <th>443</th>\n",
       "      <td>8.300</td>\n",
       "      <td>9.098169</td>\n",
       "    </tr>\n",
       "    <tr>\n",
       "      <th>618</th>\n",
       "      <td>9.175</td>\n",
       "      <td>9.696549</td>\n",
       "    </tr>\n",
       "    <tr>\n",
       "      <th>258</th>\n",
       "      <td>9.950</td>\n",
       "      <td>8.610842</td>\n",
       "    </tr>\n",
       "    <tr>\n",
       "      <th>700</th>\n",
       "      <td>6.600</td>\n",
       "      <td>5.705051</td>\n",
       "    </tr>\n",
       "    <tr>\n",
       "      <th>...</th>\n",
       "      <td>...</td>\n",
       "      <td>...</td>\n",
       "    </tr>\n",
       "    <tr>\n",
       "      <th>472</th>\n",
       "      <td>10.650</td>\n",
       "      <td>9.169454</td>\n",
       "    </tr>\n",
       "    <tr>\n",
       "      <th>380</th>\n",
       "      <td>5.850</td>\n",
       "      <td>7.505872</td>\n",
       "    </tr>\n",
       "    <tr>\n",
       "      <th>169</th>\n",
       "      <td>4.325</td>\n",
       "      <td>4.246183</td>\n",
       "    </tr>\n",
       "    <tr>\n",
       "      <th>174</th>\n",
       "      <td>9.175</td>\n",
       "      <td>10.555492</td>\n",
       "    </tr>\n",
       "    <tr>\n",
       "      <th>678</th>\n",
       "      <td>8.125</td>\n",
       "      <td>7.753649</td>\n",
       "    </tr>\n",
       "  </tbody>\n",
       "</table>\n",
       "<p>145 rows × 2 columns</p>\n",
       "</div>"
      ],
      "text/plain": [
       "     Actual       Pred\n",
       "225   7.275   7.223259\n",
       "443   8.300   9.098169\n",
       "618   9.175   9.696549\n",
       "258   9.950   8.610842\n",
       "700   6.600   5.705051\n",
       "..      ...        ...\n",
       "472  10.650   9.169454\n",
       "380   5.850   7.505872\n",
       "169   4.325   4.246183\n",
       "174   9.175  10.555492\n",
       "678   8.125   7.753649\n",
       "\n",
       "[145 rows x 2 columns]"
      ]
     },
     "execution_count": 22,
     "metadata": {},
     "output_type": "execute_result"
    }
   ],
   "source": [
    "actual_pred"
   ]
  },
  {
   "cell_type": "code",
   "execution_count": 23,
   "id": "24c694b6",
   "metadata": {},
   "outputs": [],
   "source": [
    "error_test=actual_pred['Actual']-actual_pred['Pred']"
   ]
  },
  {
   "cell_type": "code",
   "execution_count": 24,
   "id": "47e5b96b",
   "metadata": {},
   "outputs": [
    {
     "data": {
      "text/plain": [
       "225    0.051741\n",
       "443   -0.798169\n",
       "618   -0.521549\n",
       "258    1.339158\n",
       "700    0.894949\n",
       "         ...   \n",
       "472    1.480546\n",
       "380   -1.655872\n",
       "169    0.078817\n",
       "174   -1.380492\n",
       "678    0.371351\n",
       "Length: 145, dtype: float64"
      ]
     },
     "execution_count": 24,
     "metadata": {},
     "output_type": "execute_result"
    }
   ],
   "source": [
    "error_test"
   ]
  },
  {
   "cell_type": "code",
   "execution_count": 25,
   "id": "d971f66c",
   "metadata": {},
   "outputs": [],
   "source": [
    "import numpy as np"
   ]
  },
  {
   "cell_type": "code",
   "execution_count": 26,
   "id": "0e80d5b9",
   "metadata": {},
   "outputs": [],
   "source": [
    "mse_test=np.mean(np.square(error_test))"
   ]
  },
  {
   "cell_type": "code",
   "execution_count": 27,
   "id": "6d7b59dd",
   "metadata": {},
   "outputs": [
    {
     "data": {
      "text/plain": [
       "1.0910495659874595"
      ]
     },
     "execution_count": 27,
     "metadata": {},
     "output_type": "execute_result"
    }
   ],
   "source": [
    "mse_test"
   ]
  },
  {
   "cell_type": "code",
   "execution_count": 28,
   "id": "13b35a3c",
   "metadata": {},
   "outputs": [
    {
     "data": {
      "text/plain": [
       "1.044533180893484"
      ]
     },
     "execution_count": 28,
     "metadata": {},
     "output_type": "execute_result"
    }
   ],
   "source": [
    "rmse_test=np.sqrt(mse_test)\n",
    "rmse_test"
   ]
  },
  {
   "cell_type": "code",
   "execution_count": 29,
   "id": "835522ec",
   "metadata": {},
   "outputs": [
    {
     "data": {
      "text/plain": [
       "13.535330127409534"
      ]
     },
     "execution_count": 29,
     "metadata": {},
     "output_type": "execute_result"
    }
   ],
   "source": [
    "#MAPE\n",
    "mape_test=np.mean(np.abs(error_test*100/actual_pred['Actual']))\n",
    "mape_test"
   ]
  },
  {
   "cell_type": "code",
   "execution_count": 30,
   "id": "6c1c2b4e",
   "metadata": {},
   "outputs": [
    {
     "data": {
      "text/plain": [
       "0.8473115024497784"
      ]
     },
     "execution_count": 30,
     "metadata": {},
     "output_type": "execute_result"
    }
   ],
   "source": [
    "mae=np.mean(np.abs(error_test))\n",
    "mae"
   ]
  },
  {
   "cell_type": "code",
   "execution_count": 31,
   "id": "a26a616a",
   "metadata": {},
   "outputs": [],
   "source": [
    "from sklearn.metrics import mean_absolute_error,mean_absolute_percentage_error,mean_squared_error"
   ]
  },
  {
   "cell_type": "code",
   "execution_count": 32,
   "id": "8af4cb9f",
   "metadata": {},
   "outputs": [
    {
     "data": {
      "text/plain": [
       "0.8473115024497784"
      ]
     },
     "execution_count": 32,
     "metadata": {},
     "output_type": "execute_result"
    }
   ],
   "source": [
    "mean_absolute_error(actual_pred['Actual'],actual_pred['Pred'])"
   ]
  },
  {
   "cell_type": "code",
   "execution_count": 33,
   "id": "db5a0014",
   "metadata": {},
   "outputs": [
    {
     "data": {
      "text/plain": [
       "13.535330127409532"
      ]
     },
     "execution_count": 33,
     "metadata": {},
     "output_type": "execute_result"
    }
   ],
   "source": [
    "mean_absolute_percentage_error(actual_pred['Actual'],actual_pred['Pred'])*100"
   ]
  },
  {
   "cell_type": "code",
   "execution_count": 34,
   "id": "572afa78",
   "metadata": {},
   "outputs": [
    {
     "data": {
      "text/plain": [
       "1.0910495659874595"
      ]
     },
     "execution_count": 34,
     "metadata": {},
     "output_type": "execute_result"
    }
   ],
   "source": [
    "mean_squared_error(actual_pred['Actual'],actual_pred['Pred'])"
   ]
  },
  {
   "cell_type": "code",
   "execution_count": 35,
   "id": "445883c7",
   "metadata": {},
   "outputs": [],
   "source": [
    "# checking the asumptions"
   ]
  },
  {
   "cell_type": "code",
   "execution_count": 36,
   "id": "93f6b84a",
   "metadata": {},
   "outputs": [
    {
     "data": {
      "text/plain": [
       "78     0.047559\n",
       "499   -0.163351\n",
       "607   -1.048563\n",
       "328   -1.624078\n",
       "568   -1.065941\n",
       "         ...   \n",
       "162    1.099288\n",
       "572    0.778004\n",
       "71    -0.224336\n",
       "416   -0.111839\n",
       "660    0.542257\n",
       "Name: LungCap, Length: 580, dtype: float64"
      ]
     },
     "execution_count": 36,
     "metadata": {},
     "output_type": "execute_result"
    }
   ],
   "source": [
    "err_train=train_lcn_y-pred_train\n",
    "err_train"
   ]
  },
  {
   "cell_type": "code",
   "execution_count": 37,
   "id": "2010e207",
   "metadata": {},
   "outputs": [
    {
     "data": {
      "text/plain": [
       "1.571156997607463e-15"
      ]
     },
     "execution_count": 37,
     "metadata": {},
     "output_type": "execute_result"
    }
   ],
   "source": [
    "err_train.mean() # mean should be 0"
   ]
  },
  {
   "cell_type": "code",
   "execution_count": 38,
   "id": "e3dbecf7",
   "metadata": {},
   "outputs": [
    {
     "data": {
      "text/plain": [
       "-0.12184229771108843"
      ]
     },
     "execution_count": 38,
     "metadata": {},
     "output_type": "execute_result"
    }
   ],
   "source": [
    "err_train.skew()"
   ]
  },
  {
   "cell_type": "code",
   "execution_count": 39,
   "id": "8768cdea",
   "metadata": {},
   "outputs": [
    {
     "data": {
      "text/plain": [
       "2.7740458830300536"
      ]
     },
     "execution_count": 39,
     "metadata": {},
     "output_type": "execute_result"
    }
   ],
   "source": [
    "err_train.kurtosis()+3"
   ]
  },
  {
   "cell_type": "code",
   "execution_count": 40,
   "id": "6a517c3f",
   "metadata": {},
   "outputs": [],
   "source": [
    "import matplotlib.pyplot as plt\n",
    "import seaborn as ans"
   ]
  },
  {
   "cell_type": "code",
   "execution_count": 41,
   "id": "0a594016",
   "metadata": {},
   "outputs": [
    {
     "data": {
      "text/plain": [
       "(array([ 1.,  0.,  0.,  2.,  3.,  6.,  8.,  6., 16., 16., 22., 32., 32.,\n",
       "        38., 40., 38., 40., 57., 41., 41., 38., 23., 25., 17., 17.,  7.,\n",
       "         8.,  3.,  1.,  2.]),\n",
       " array([-3.33721838, -3.13422751, -2.93123665, -2.72824578, -2.52525491,\n",
       "        -2.32226405, -2.11927318, -1.91628232, -1.71329145, -1.51030059,\n",
       "        -1.30730972, -1.10431886, -0.90132799, -0.69833713, -0.49534626,\n",
       "        -0.2923554 , -0.08936453,  0.11362634,  0.3166172 ,  0.51960807,\n",
       "         0.72259893,  0.9255898 ,  1.12858066,  1.33157153,  1.53456239,\n",
       "         1.73755326,  1.94054412,  2.14353499,  2.34652585,  2.54951672,\n",
       "         2.75250759]),\n",
       " <BarContainer object of 30 artists>)"
      ]
     },
     "execution_count": 41,
     "metadata": {},
     "output_type": "execute_result"
    },
    {
     "data": {
      "image/png": "[encoded data removed]",
      "text/plain": [
       "<Figure size 640x480 with 1 Axes>"
      ]
     },
     "metadata": {},
     "output_type": "display_data"
    }
   ],
   "source": [
    "plt.hist(err_train,bins=30,edgecolor='blue')"
   ]
  },
  {
   "cell_type": "code",
   "execution_count": 42,
   "id": "664f0a64",
   "metadata": {},
   "outputs": [
    {
     "data": {
      "text/plain": [
       "<matplotlib.lines.Line2D at 0x18b9c0dbd90>"
      ]
     },
     "execution_count": 42,
     "metadata": {},
     "output_type": "execute_result"
    },
    {
     "data": {
      "image/png": "[encoded data removed]",
      "text/plain": [
       "<Figure size 640x480 with 1 Axes>"
      ]
     },
     "metadata": {},
     "output_type": "display_data"
    }
   ],
   "source": [
    "plt.plot(err_train,'*') # scatter plot errors\n",
    "plt.axhline(y=0,color='red')\n",
    "plt.axhline(y=3,color='red')\n",
    "plt.axhline(y=-3,color='red')"
   ]
  },
  {
   "cell_type": "code",
   "execution_count": 43,
   "id": "87ba34ce",
   "metadata": {},
   "outputs": [],
   "source": [
    "#sns.boxplot(err_train)"
   ]
  },
  {
   "cell_type": "code",
   "execution_count": 44,
   "id": "24aecfcb",
   "metadata": {},
   "outputs": [],
   "source": [
    "actual_pred_train = pd.DataFrame()\n",
    "actual_pred_train['Actual'] = train_lcn_y\n",
    "actual_pred_train['Pred'] = pred_train"
   ]
  },
  {
   "cell_type": "code",
   "execution_count": 45,
   "id": "a9451d7f",
   "metadata": {},
   "outputs": [
    {
     "data": {
      "text/plain": [
       "<Axes: xlabel='Actual', ylabel='Pred'>"
      ]
     },
     "execution_count": 45,
     "metadata": {},
     "output_type": "execute_result"
    },
    {
     "data": {
      "image/png": "[encoded data removed]",
      "text/plain": [
       "<Figure size 640x480 with 1 Axes>"
      ]
     },
     "metadata": {},
     "output_type": "display_data"
    }
   ],
   "source": [
    "sns.regplot(x='Actual',y='Pred',data=actual_pred_train)"
   ]
  },
  {
   "cell_type": "code",
   "execution_count": 46,
   "id": "11352b56",
   "metadata": {},
   "outputs": [
    {
     "data": {
      "text/plain": [
       "Index(['LungCap', 'Age', 'Height', 'Smoke', 'Gender', 'Caesarean'], dtype='object')"
      ]
     },
     "execution_count": 46,
     "metadata": {},
     "output_type": "execute_result"
    }
   ],
   "source": [
    "# some extra \n",
    "lcn.columns"
   ]
  },
  {
   "cell_type": "code",
   "execution_count": 47,
   "id": "2d480aa2",
   "metadata": {},
   "outputs": [],
   "source": [
    "def predict_lcn():\n",
    "    Age=input('Enter the age in years -->')\n",
    "    Height=input('Enter the Heights in inches -->')\n",
    "    Smoke=input('0 for no and 1 for yes  -->')\n",
    "    Gender=input('0 for male and 1 for female -->')\n",
    "    Caesarean=input('0 for no and 1 for yes -->')\n",
    "    global df\n",
    "    df=pd.DataFrame()\n",
    "    df['Age']=[Age]\n",
    "    df['Height']=[Height]\n",
    "    df['Smoke']=[Smoke]\n",
    "    df['Gender']=[Gender]\n",
    "    df['Caesarean']=[Caesarean]\n",
    "    pred=linreg.predict(df)\n",
    "    print(\"-----------------------\")\n",
    "    print('Prediction',pred)"
   ]
  },
  {
   "cell_type": "code",
   "execution_count": 48,
   "id": "fcf78b17",
   "metadata": {},
   "outputs": [
    {
     "name": "stdout",
     "output_type": "stream",
     "text": [
      "Enter the age in years -->23\n",
      "Enter the Heights in inches -->100\n",
      "0 for no and 1 for yes  -->1\n",
      "0 for male and 1 for female -->1\n",
      "0 for no and 1 for yes -->1\n",
      "-----------------------\n",
      "Prediction [18.01177928]\n"
     ]
    }
   ],
   "source": [
    "predict_lcn()"
   ]
  },
  {
   "cell_type": "code",
   "execution_count": 49,
   "id": "62fc1523",
   "metadata": {},
   "outputs": [
    {
     "data": {
      "text/html": [
       "<div>\n",
       "<style scoped>\n",
       "    .dataframe tbody tr th:only-of-type {\n",
       "        vertical-align: middle;\n",
       "    }\n",
       "\n",
       "    .dataframe tbody tr th {\n",
       "        vertical-align: top;\n",
       "    }\n",
       "\n",
       "    .dataframe thead th {\n",
       "        text-align: right;\n",
       "    }\n",
       "</style>\n",
       "<table border=\"1\" class=\"dataframe\">\n",
       "  <thead>\n",
       "    <tr style=\"text-align: right;\">\n",
       "      <th></th>\n",
       "      <th>Age</th>\n",
       "      <th>Height</th>\n",
       "      <th>Smoke</th>\n",
       "      <th>Gender</th>\n",
       "      <th>Caesarean</th>\n",
       "    </tr>\n",
       "  </thead>\n",
       "  <tbody>\n",
       "    <tr>\n",
       "      <th>0</th>\n",
       "      <td>23</td>\n",
       "      <td>100</td>\n",
       "      <td>1</td>\n",
       "      <td>1</td>\n",
       "      <td>1</td>\n",
       "    </tr>\n",
       "  </tbody>\n",
       "</table>\n",
       "</div>"
      ],
      "text/plain": [
       "  Age Height Smoke Gender Caesarean\n",
       "0  23    100     1      1         1"
      ]
     },
     "execution_count": 49,
     "metadata": {},
     "output_type": "execute_result"
    }
   ],
   "source": [
    "df"
   ]
  },
  {
   "cell_type": "code",
   "execution_count": null,
   "id": "9e65202f",
   "metadata": {},
   "outputs": [],
   "source": []
  },
  {
   "cell_type": "code",
   "execution_count": null,
   "id": "4e35f730",
   "metadata": {},
   "outputs": [],
   "source": []
  },
  {
   "cell_type": "code",
   "execution_count": null,
   "id": "42fd87b2",
   "metadata": {},
   "outputs": [],
   "source": []
  }
 ],
 "metadata": {
  "kernelspec": {
   "display_name": "Python 3 (ipykernel)",
   "language": "python",
   "name": "python3"
  },
  "language_info": {
   "codemirror_mode": {
    "name": "ipython",
    "version": 3
   },
   "file_extension": ".py",
   "mimetype": "text/x-python",
   "name": "python",
   "nbconvert_exporter": "python",
   "pygments_lexer": "ipython3",
   "version": "3.10.9"
  }
 },
 "nbformat": 4,
 "nbformat_minor": 5
}
